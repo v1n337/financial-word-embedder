{
 "cells": [
  {
   "cell_type": "code",
   "execution_count": 1,
   "metadata": {
    "collapsed": true
   },
   "outputs": [],
   "source": [
    "import re\n",
    "import html\n",
    "import os\n",
    "\n",
    "from random import randint\n",
    "from itertools import chain\n",
    "from nltk.tokenize import sent_tokenize, word_tokenize\n",
    "from gensim.models.word2vec import LineSentence, Word2Vec"
   ]
  },
  {
   "cell_type": "code",
   "execution_count": 2,
   "metadata": {
    "collapsed": true
   },
   "outputs": [],
   "source": [
    "from IPython.display import display, HTML\n",
    "\n",
    "def browser_alert(message):\n",
    "    display(HTML('<script type=\"text/javascript\">alert(\"' + message + '\");</script>'))\n",
    "    \n",
    "def browser_notify(message):\n",
    "    display(HTML('<script type=\"text/javascript\">var notification=new Notification(\"Jupyter Notification\",{icon:\"http://blog.jupyter.org/content/images/2015/02/jupyter-sq-text.png\",body:\"' + message + '\"});</script>'))"
   ]
  },
  {
   "cell_type": "markdown",
   "metadata": {},
   "source": [
    "# Input file cleaning and formatting"
   ]
  },
  {
   "cell_type": "code",
   "execution_count": null,
   "metadata": {
    "collapsed": true
   },
   "outputs": [],
   "source": [
    "def clean_str(string):  \n",
    "    string = html.unescape(string)\n",
    "    string = re.sub(r\"[^A-Za-z0-9!?\\'\\`]\", \" \", string)\n",
    "    string = re.sub(r\"[ ]+\", \" \", string)\n",
    "\n",
    "    return string.strip().lower()"
   ]
  },
  {
   "cell_type": "code",
   "execution_count": null,
   "metadata": {
    "collapsed": true
   },
   "outputs": [],
   "source": [
    "def get_sentences_from_line(line):\n",
    "    \n",
    "    sentences = list()\n",
    "    if line[0:2] == \"--\" or len(line.strip()) == 0:\n",
    "        return sentences\n",
    "    \n",
    "    sentences.extend(sent_tokenize(line.strip()))\n",
    "    \n",
    "    return sentences"
   ]
  },
  {
   "cell_type": "code",
   "execution_count": null,
   "metadata": {
    "collapsed": true
   },
   "outputs": [],
   "source": [
    "def get_article_sentences(article_file_path):\n",
    "    with open(article_file_path) as article_file:\n",
    "        for line in article_file:\n",
    "            sentences = get_sentences_from_line(line)\n",
    "            \n",
    "            for sentence in sentences:\n",
    "                yield(sentence)"
   ]
  },
  {
   "cell_type": "code",
   "execution_count": null,
   "metadata": {
    "collapsed": true
   },
   "outputs": [],
   "source": [
    "# sample_article_path = \"/home/v2john/Projects/financial-news-dataset/20061020_20131126_bloomberg_news/2009-01-02/rust-through-transparency\"\n",
    "# for article_sentence in get_article_sentences(sample_article_path):\n",
    "#     print(clean_str(article_sentence))"
   ]
  },
  {
   "cell_type": "code",
   "execution_count": null,
   "metadata": {
    "collapsed": true
   },
   "outputs": [],
   "source": [
    "corpora_path = \"/home/v2john/Projects/financial-news-dataset/ReutersNews106521/\""
   ]
  },
  {
   "cell_type": "code",
   "execution_count": null,
   "metadata": {
    "collapsed": true
   },
   "outputs": [],
   "source": [
    "consolidated_output_path = \"/home/v2john/Projects/financial-news-dataset/reuters_sentences.txt\""
   ]
  },
  {
   "cell_type": "code",
   "execution_count": null,
   "metadata": {
    "collapsed": true
   },
   "outputs": [],
   "source": [
    "with open(consolidated_output_path, 'w') as consolidated_output_file:\n",
    "    for path, subdirs, files in os.walk(corpora_path):\n",
    "        for name in files:\n",
    "            full_path = os.path.join(path, name)\n",
    "            if \"/.\" not in full_path:\n",
    "                try:\n",
    "                    for article_sentence in get_article_sentences(full_path):\n",
    "                        consolidated_output_file.write(clean_str(article_sentence) + \"\\n\")\n",
    "                except Exception as e:\n",
    "                    print(full_path)"
   ]
  },
  {
   "cell_type": "code",
   "execution_count": null,
   "metadata": {
    "collapsed": true
   },
   "outputs": [],
   "source": [
    "browser_notify(\"Sentences generated\")"
   ]
  },
  {
   "cell_type": "markdown",
   "metadata": {
    "collapsed": true
   },
   "source": [
    "# Learning word embeddings"
   ]
  },
  {
   "cell_type": "code",
   "execution_count": 3,
   "metadata": {
    "collapsed": true
   },
   "outputs": [],
   "source": [
    "reuters_sentences = LineSentence('/home/v2john/Projects/financial-news-dataset/reuters_sentences.txt')\n",
    "bloomberg_sentences = LineSentence('/home/v2john/Projects/financial-news-dataset/bloomberg_sentences.txt')\n",
    "w2v_model_path = \"/home/v2john/Projects/financial-word-embedder/models/w2v_model\""
   ]
  },
  {
   "cell_type": "code",
   "execution_count": null,
   "metadata": {
    "collapsed": true
   },
   "outputs": [],
   "source": [
    "model = Word2Vec(chain(reuters_sentences, bloomberg_sentences), size=400, window=5, min_count=25, workers=8)"
   ]
  },
  {
   "cell_type": "code",
   "execution_count": 4,
   "metadata": {
    "collapsed": true
   },
   "outputs": [],
   "source": [
    "# save model\n",
    "# model.save(w2v_model_path)\n",
    "\n",
    "# restore model\n",
    "model = Word2Vec.load(w2v_model_path)"
   ]
  },
  {
   "cell_type": "code",
   "execution_count": 5,
   "metadata": {},
   "outputs": [
    {
     "data": {
      "text/html": [
       "<script type=\"text/javascript\">var notification=new Notification(\"Jupyter Notification\",{icon:\"http://blog.jupyter.org/content/images/2015/02/jupyter-sq-text.png\",body:\"Word embeddings training complete\"});</script>"
      ],
      "text/plain": [
       "<IPython.core.display.HTML object>"
      ]
     },
     "metadata": {},
     "output_type": "display_data"
    }
   ],
   "source": [
    "browser_notify(\"Word embeddings training complete\")"
   ]
  },
  {
   "cell_type": "code",
   "execution_count": 6,
   "metadata": {
    "collapsed": true
   },
   "outputs": [],
   "source": [
    "# model.wv['shareholder']"
   ]
  },
  {
   "cell_type": "code",
   "execution_count": 24,
   "metadata": {
    "collapsed": true
   },
   "outputs": [],
   "source": [
    "# model.similar_by_word(\"stock\", topn=10, restrict_vocab=None)"
   ]
  },
  {
   "cell_type": "code",
   "execution_count": 25,
   "metadata": {
    "collapsed": true
   },
   "outputs": [],
   "source": [
    "word_graph = dict()\n",
    "k = 10"
   ]
  },
  {
   "cell_type": "code",
   "execution_count": 26,
   "metadata": {
    "collapsed": true
   },
   "outputs": [],
   "source": [
    "count = 0\n",
    "for word in model.wv.vocab.keys():\n",
    "    similar_word_tuples = model.similar_by_word(word, topn=k, restrict_vocab=None)\n",
    "    similar_words = list()\n",
    "    for similar_word_tuple in similar_word_tuples:\n",
    "        similar_words.append(similar_word_tuple[0])\n",
    "        \n",
    "    word_graph[word] = similar_words\n",
    "    count += 1"
   ]
  },
  {
   "cell_type": "code",
   "execution_count": 27,
   "metadata": {},
   "outputs": [
    {
     "data": {
      "text/html": [
       "<script type=\"text/javascript\">var notification=new Notification(\"Jupyter Notification\",{icon:\"http://blog.jupyter.org/content/images/2015/02/jupyter-sq-text.png\",body:\"Word graph created\"});</script>"
      ],
      "text/plain": [
       "<IPython.core.display.HTML object>"
      ]
     },
     "metadata": {},
     "output_type": "display_data"
    }
   ],
   "source": [
    "browser_notify(\"Word graph created\")"
   ]
  },
  {
   "cell_type": "code",
   "execution_count": 28,
   "metadata": {},
   "outputs": [
    {
     "data": {
      "text/plain": [
       "82286"
      ]
     },
     "execution_count": 28,
     "metadata": {},
     "output_type": "execute_result"
    }
   ],
   "source": [
    "len(word_graph)"
   ]
  },
  {
   "cell_type": "code",
   "execution_count": 29,
   "metadata": {
    "collapsed": true
   },
   "outputs": [],
   "source": [
    "seed_words = ['shrink', 'drop', 'fall', 'plunge', 'slump']\n",
    "walk_dict = dict()\n",
    "random_walk_length = 100\n",
    "walk_iterations = 100"
   ]
  },
  {
   "cell_type": "code",
   "execution_count": 30,
   "metadata": {
    "collapsed": true
   },
   "outputs": [],
   "source": [
    "def perform_random_walk(word_graph, word, iterations, walk_dict):\n",
    "    words_chosen = list()\n",
    "    for i in range(iterations):\n",
    "        word_choices = word_graph[word]\n",
    "        word_choice = word_choices[randint(0, k-1)]\n",
    "        \n",
    "        words_chosen.append(word_choice)\n",
    "        word = word_choice\n",
    "    \n",
    "    for word_choice in words_chosen:\n",
    "        if word_choice in walk_dict.keys():\n",
    "            walk_dict[word_choice] += 1\n",
    "        else:\n",
    "            walk_dict[word_choice] = 1"
   ]
  },
  {
   "cell_type": "code",
   "execution_count": 31,
   "metadata": {
    "collapsed": true
   },
   "outputs": [],
   "source": [
    "for word in seed_words:\n",
    "    for iteration in range(walk_iterations):\n",
    "        perform_random_walk(word_graph, word, random_walk_length, walk_dict)"
   ]
  },
  {
   "cell_type": "code",
   "execution_count": 32,
   "metadata": {},
   "outputs": [
    {
     "data": {
      "text/plain": [
       "[\"zealand's\",\n",
       " 'frontier',\n",
       " 'believers',\n",
       " 'ubisoft',\n",
       " 'compagnia',\n",
       " 'zambo',\n",
       " 'mtg',\n",
       " 'okinnander',\n",
       " \"efsf's\",\n",
       " 'qedra']"
      ]
     },
     "execution_count": 32,
     "metadata": {},
     "output_type": "execute_result"
    }
   ],
   "source": [
    "sorted(walk_dict, key=walk_dict.get, reverse=True)[:10]"
   ]
  },
  {
   "cell_type": "code",
   "execution_count": 33,
   "metadata": {},
   "outputs": [
    {
     "data": {
      "text/html": [
       "<script type=\"text/javascript\">var notification=new Notification(\"Jupyter Notification\",{icon:\"http://blog.jupyter.org/content/images/2015/02/jupyter-sq-text.png\",body:\"Words identified\"});</script>"
      ],
      "text/plain": [
       "<IPython.core.display.HTML object>"
      ]
     },
     "metadata": {},
     "output_type": "display_data"
    }
   ],
   "source": [
    "browser_notify(\"Words identified\")"
   ]
  },
  {
   "cell_type": "code",
   "execution_count": 34,
   "metadata": {},
   "outputs": [
    {
     "data": {
      "text/plain": [
       "20"
      ]
     },
     "execution_count": 34,
     "metadata": {},
     "output_type": "execute_result"
    }
   ],
   "source": [
    "walk_dict[\"zealand's\"]"
   ]
  }
 ],
 "metadata": {
  "kernelspec": {
   "display_name": ".pyenv",
   "language": "python",
   "name": ".pyenv"
  },
  "language_info": {
   "codemirror_mode": {
    "name": "ipython",
    "version": 3
   },
   "file_extension": ".py",
   "mimetype": "text/x-python",
   "name": "python",
   "nbconvert_exporter": "python",
   "pygments_lexer": "ipython3",
   "version": "3.6.1"
  }
 },
 "nbformat": 4,
 "nbformat_minor": 2
}
